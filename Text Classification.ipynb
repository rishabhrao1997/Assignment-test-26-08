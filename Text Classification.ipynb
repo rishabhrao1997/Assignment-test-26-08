{
 "cells": [
  {
   "cell_type": "markdown",
   "metadata": {},
   "source": [
    "# Text Classification (MultiClass)"
   ]
  },
  {
   "cell_type": "markdown",
   "metadata": {},
   "source": [
    "In this task, we are given with some text, and a label corresponding to it. \n",
    "\n",
    "Since we do not really have the domain knowledge regarding the given dataset, we can only/mostly work with the text vectorization techniques, and domain based feature engineering would be out of question for this dataset."
   ]
  },
  {
   "cell_type": "markdown",
   "metadata": {},
   "source": [
    "## Importing important libraries"
   ]
  },
  {
   "cell_type": "code",
   "execution_count": 1,
   "metadata": {},
   "outputs": [],
   "source": [
    "import numpy as np\n",
    "import pandas as pd\n",
    "import seaborn as sns\n",
    "import matplotlib.pyplot as plt\n",
    "\n",
    "from prettytable import PrettyTable\n",
    "from nltk.corpus import stopwords\n",
    "\n",
    "from sklearn.metrics import accuracy_score\n",
    "from sklearn.naive_bayes import MultinomialNB\n",
    "from sklearn.linear_model import SGDClassifier\n",
    "from sklearn.model_selection import cross_val_score\n",
    "from sklearn.model_selection import train_test_split\n",
    "from sklearn.feature_extraction.text import CountVectorizer\n",
    "\n",
    "pd.set_option('max_colwidth', 200)\n",
    "\n",
    "import warnings\n",
    "warnings.filterwarnings('ignore')"
   ]
  },
  {
   "cell_type": "markdown",
   "metadata": {},
   "source": [
    "## Reading the dataset"
   ]
  },
  {
   "cell_type": "markdown",
   "metadata": {},
   "source": [
    "We will first try to read the dataset, and look at the few entries to get familiar with the dataset in hand."
   ]
  },
  {
   "cell_type": "code",
   "execution_count": 2,
   "metadata": {},
   "outputs": [
    {
     "data": {
      "text/html": [
       "<div>\n",
       "<style scoped>\n",
       "    .dataframe tbody tr th:only-of-type {\n",
       "        vertical-align: middle;\n",
       "    }\n",
       "\n",
       "    .dataframe tbody tr th {\n",
       "        vertical-align: top;\n",
       "    }\n",
       "\n",
       "    .dataframe thead th {\n",
       "        text-align: right;\n",
       "    }\n",
       "</style>\n",
       "<table border=\"1\" class=\"dataframe\">\n",
       "  <thead>\n",
       "    <tr style=\"text-align: right;\">\n",
       "      <th></th>\n",
       "      <th>label</th>\n",
       "      <th>text</th>\n",
       "    </tr>\n",
       "  </thead>\n",
       "  <tbody>\n",
       "    <tr>\n",
       "      <th>0</th>\n",
       "      <td>85389000</td>\n",
       "      <td>pdscpm gb part of panel of chiller</td>\n",
       "    </tr>\n",
       "    <tr>\n",
       "      <th>1</th>\n",
       "      <td>85389000</td>\n",
       "      <td>nm  p economical extended rot hand parts for circuit breaker captive consumption</td>\n",
       "    </tr>\n",
       "    <tr>\n",
       "      <th>2</th>\n",
       "      <td>85389000</td>\n",
       "      <td>lv ma pd trip unit for cvs parts of circuit breakers</td>\n",
       "    </tr>\n",
       "    <tr>\n",
       "      <th>3</th>\n",
       "      <td>85389000</td>\n",
       "      <td>lv na p trip unit for cvs switch parts of circuit breaker</td>\n",
       "    </tr>\n",
       "    <tr>\n",
       "      <th>4</th>\n",
       "      <td>85389000</td>\n",
       "      <td>lv tmd pd trip unit for cvs parts of circuitbreakers</td>\n",
       "    </tr>\n",
       "  </tbody>\n",
       "</table>\n",
       "</div>"
      ],
      "text/plain": [
       "      label  \\\n",
       "0  85389000   \n",
       "1  85389000   \n",
       "2  85389000   \n",
       "3  85389000   \n",
       "4  85389000   \n",
       "\n",
       "                                                                               text  \n",
       "0                                                pdscpm gb part of panel of chiller  \n",
       "1  nm  p economical extended rot hand parts for circuit breaker captive consumption  \n",
       "2                              lv ma pd trip unit for cvs parts of circuit breakers  \n",
       "3                         lv na p trip unit for cvs switch parts of circuit breaker  \n",
       "4                              lv tmd pd trip unit for cvs parts of circuitbreakers  "
      ]
     },
     "metadata": {},
     "output_type": "display_data"
    },
    {
     "name": "stdout",
     "output_type": "stream",
     "text": [
      "Shape of training set = (23615, 2)\n",
      "Shape of testing set = (5894, 1)\n"
     ]
    }
   ],
   "source": [
    "df = pd.read_csv('train_set.csv', encoding = \"ISO-8859-1\")\n",
    "test_df = pd.read_csv('test_set.csv')\n",
    "\n",
    "display(df.head())\n",
    "print(f\"Shape of training set = {df.shape}\")\n",
    "print(f\"Shape of testing set = {test_df.shape}\")"
   ]
  },
  {
   "cell_type": "code",
   "execution_count": 3,
   "metadata": {},
   "outputs": [
    {
     "name": "stdout",
     "output_type": "stream",
     "text": [
      "Total number of unique classes = 12\n"
     ]
    }
   ],
   "source": [
    "print(f\"Total number of unique classes = {df.label.nunique()}\")"
   ]
  },
  {
   "cell_type": "markdown",
   "metadata": {},
   "source": [
    "Let's look at the distribution of the classes."
   ]
  },
  {
   "cell_type": "code",
   "execution_count": 4,
   "metadata": {},
   "outputs": [
    {
     "data": {
      "image/png": "[encoded data removed]",
      "text/plain": [
       "<Figure size 576x432 with 1 Axes>"
      ]
     },
     "metadata": {
      "needs_background": "light"
     },
     "output_type": "display_data"
    }
   ],
   "source": [
    "#checking the occurrences of various classes\n",
    "plt.figure(figsize = (8, 6))\n",
    "sns.countplot(df.label)\n",
    "plt.xticks(rotation = 90)\n",
    "plt.title('Counts of Class Labels')\n",
    "plt.show()"
   ]
  },
  {
   "cell_type": "markdown",
   "metadata": {},
   "source": [
    "Looking at the class distribution, we can see that the dataset is not quite biased towards a single class, and has good number of instances for each and every class. This also implies that we can use accuracy as an evaluation metric."
   ]
  },
  {
   "cell_type": "markdown",
   "metadata": {},
   "source": [
    "We will look at some more stats from the text data."
   ]
  },
  {
   "cell_type": "code",
   "execution_count": 5,
   "metadata": {},
   "outputs": [
    {
     "name": "stdout",
     "output_type": "stream",
     "text": [
      "Average length of sentence = 8.555197967393605 words\n",
      "Smallest sentence length = 1\n",
      "Largest sentence length = 21\n"
     ]
    },
    {
     "data": {
      "image/png": "[encoded data removed]",
      "text/plain": [
       "<Figure size 504x360 with 1 Axes>"
      ]
     },
     "metadata": {
      "needs_background": "light"
     },
     "output_type": "display_data"
    }
   ],
   "source": [
    "#let's look at the average number of words that the texts contain\n",
    "sentence_lens = df.text.apply(lambda x: len(x.split())).values\n",
    "print(f\"Average length of sentence = {np.mean(sentence_lens)} words\")\n",
    "print(f\"Smallest sentence length = {min(sentence_lens)}\")\n",
    "print(f\"Largest sentence length = {max(sentence_lens)}\")\n",
    "\n",
    "#checking the distribution of the sentence lengths\n",
    "plt.figure(figsize = (7, 5))\n",
    "plt.title(\"Boxplot of sentence length for the given dataset\")\n",
    "sns.boxplot(sentence_lens)\n",
    "plt.show()"
   ]
  },
  {
   "cell_type": "markdown",
   "metadata": {},
   "source": [
    "We see that most of the texts have their lengths between 6 and 11 words, while some have as many as 20+ words, and some even have as less as 1 word."
   ]
  },
  {
   "cell_type": "markdown",
   "metadata": {},
   "source": [
    "## Data Cleaning"
   ]
  },
  {
   "cell_type": "markdown",
   "metadata": {},
   "source": [
    "We will first try to clean the dataset a bit, which would include:\n",
    "\n",
    "1) Removing stopwords <br>\n",
    "2) Removing words having a length of less than 2 <br>\n",
    "3) Stripping extra white spaces"
   ]
  },
  {
   "cell_type": "code",
   "execution_count": 6,
   "metadata": {},
   "outputs": [],
   "source": [
    "#preprocessing the sentences a bit\n",
    "\n",
    "#removing the stopwords\n",
    "stop_words = stopwords.words('english')\n",
    "stop_words.remove('not')\n",
    "#removing words having length less than 2\n",
    "df['text'] = df['text'].apply(lambda x: ' '.join(\n",
    "                    [ele for ele in x.split() if len(ele) >= 2 and ele not in stop_words]))\n",
    "test_df['text'] = test_df['text'].apply(lambda x: ' '.join(\n",
    "                            [ele for ele in x.split() if len(ele) >= 2 and ele not in stop_words]))"
   ]
  },
  {
   "cell_type": "markdown",
   "metadata": {},
   "source": [
    "## Splitting into Train and Test"
   ]
  },
  {
   "cell_type": "code",
   "execution_count": 7,
   "metadata": {},
   "outputs": [
    {
     "name": "stdout",
     "output_type": "stream",
     "text": [
      "Shape of x_train = (18892,)\n",
      "Shape of x_test = (4723,)\n"
     ]
    }
   ],
   "source": [
    "#now we will vectorize the texts\n",
    "y_train = df.pop('label')\n",
    "x_train = df.text\n",
    "#splitting the dataset into train, cv and test\n",
    "x_train, x_test, y_train, y_test = train_test_split(x_train, y_train.values, test_size = 0.2,\n",
    "                                                    random_state = 32)\n",
    "\n",
    "print(f\"Shape of x_train = {x_train.shape}\\nShape of x_test = {x_test.shape}\")"
   ]
  },
  {
   "cell_type": "markdown",
   "metadata": {},
   "source": [
    "## Data Featurization"
   ]
  },
  {
   "cell_type": "markdown",
   "metadata": {},
   "source": [
    "Now we will vectorize the dataset, using Bag of Words approach.<br>\n",
    "We will be using an n-gram range of 1 to 3, and also the minimum document frequency of 10, so as to remove unwanted rare words."
   ]
  },
  {
   "cell_type": "code",
   "execution_count": 8,
   "metadata": {},
   "outputs": [
    {
     "name": "stdout",
     "output_type": "stream",
     "text": [
      "Shape of vectorized x_train = (18892, 4051)\n",
      "Shape of vectorized x_test = (4723, 4051)\n",
      "Shape of vectorized unseen test data = (5894, 4051)\n"
     ]
    }
   ],
   "source": [
    "count = CountVectorizer(min_df = 10, ngram_range = (1,3))\n",
    "x_train_vect = count.fit_transform(x_train)\n",
    "x_test_vect = count.transform(x_test)\n",
    "\n",
    "print(f\"Shape of vectorized x_train = {x_train_vect.shape}\")\n",
    "print(f\"Shape of vectorized x_test = {x_test_vect.shape}\")\n",
    "\n",
    "#also featurizing the original test data, without labels\n",
    "x_test_final = count.transform(test_df.text.values)\n",
    "print(f\"Shape of vectorized unseen test data = {x_test_final.shape}\")"
   ]
  },
  {
   "cell_type": "markdown",
   "metadata": {},
   "source": [
    "## Model Training\n"
   ]
  },
  {
   "cell_type": "markdown",
   "metadata": {},
   "source": [
    "Now we will start the modelling for the given dataset. Since we have textual data, with very high dimensionality, we will avoid tree based models, because of their performance degradation and the increase in time-complexities for high dimensional data.\n",
    "\n",
    "We will do a normal grid search for each of these models, and check the performance on our test set, and choose the model which gives best performance on our test set. We will use a 4-fold cross validation for each of these models."
   ]
  },
  {
   "cell_type": "code",
   "execution_count": 28,
   "metadata": {},
   "outputs": [],
   "source": [
    "#defining a helper function\n",
    "\n",
    "def plot_accuracy_versus_hyperparam(params, train_results, cv_results, hyperparameter_name,\n",
    "                                    log_scale = False):\n",
    "    plt.figure(figsize=(9,6))\n",
    "    plt.title(f'Hyperparameter-{hyperparameter_name} vs Accuracy Score')\n",
    "    plt.plot(params, cv_results, label = 'CV Score')\n",
    "    plt.plot(params, train_results, label = 'Train Score')\n",
    "    if log_scale:\n",
    "        plt.xscale('log')\n",
    "    plt.xlabel(hyperparameter_name)\n",
    "    plt.ylabel('Accuracy')\n",
    "    plt.legend()\n",
    "    plt.show()"
   ]
  },
  {
   "cell_type": "markdown",
   "metadata": {},
   "source": [
    "### Logistic Regression"
   ]
  },
  {
   "cell_type": "code",
   "execution_count": 29,
   "metadata": {},
   "outputs": [
    {
     "name": "stdout",
     "output_type": "stream",
     "text": [
      "The mean CV accuracy with alpha = 0.0001 is = 0.9029\n",
      "The mean CV accuracy with alpha = 0.001 is = 0.8684\n",
      "The mean CV accuracy with alpha = 0.01 is = 0.8074\n",
      "The mean CV accuracy with alpha = 0.1 is = 0.7459\n",
      "The mean CV accuracy with alpha = 1 is = 0.6407\n",
      "The mean CV accuracy with alpha = 10 is = 0.4971\n",
      "The mean CV accuracy with alpha = 100 is = 0.2637\n"
     ]
    }
   ],
   "source": [
    "#now we will be fitting the models\n",
    "\n",
    "#defining the range of values for the hyperparameter alpha\n",
    "param = {'alpha': [0.0001, 0.001, 0.01, 0.1, 1, 10, 100]}\n",
    "\n",
    "cv_accuracy = []\n",
    "train_accuracy = []\n",
    "for ele in param['alpha']:\n",
    "\n",
    "    clf = SGDClassifier(loss = 'log',\n",
    "                        penalty = 'l2',\n",
    "                        alpha = ele,\n",
    "                        class_weight = 'balanced', n_jobs = -1)\n",
    "\n",
    "    scores = cross_val_score(clf,\n",
    "                             x_train_vect,\n",
    "                             y_train,\n",
    "                             scoring = 'accuracy',\n",
    "                             cv = 4,\n",
    "                             n_jobs = -1)\n",
    "\n",
    "    print(\"The mean CV accuracy with alpha = {} is = {}\".format(ele, round(np.mean(scores), 4)))\n",
    "    #appending the train and cv scores to the list\n",
    "    cv_accuracy.append(np.mean(scores))\n",
    "    \n",
    "    #fitting the model on whole training dataset, to get the train accuracy too\n",
    "    clf.fit(x_train_vect, y_train)\n",
    "    train_accuracy.append(accuracy_score(y_train, clf.predict(x_train_vect)))"
   ]
  },
  {
   "cell_type": "code",
   "execution_count": 30,
   "metadata": {},
   "outputs": [
    {
     "data": {
      "image/png": "[encoded data removed]",
      "text/plain": [
       "<Figure size 648x432 with 1 Axes>"
      ]
     },
     "metadata": {
      "needs_background": "light"
     },
     "output_type": "display_data"
    }
   ],
   "source": [
    "plot_accuracy_versus_hyperparam(param['alpha'], train_accuracy, cv_accuracy, 'alpha', True)"
   ]
  },
  {
   "cell_type": "markdown",
   "metadata": {},
   "source": [
    "From looking at the plot of hyperparameter-alpha vs the accuracy metric, we can see that alpha = 0.0001 gives the best CV Score. So we will train our final model using that hyperparameter, and check the performance on test dataset."
   ]
  },
  {
   "cell_type": "code",
   "execution_count": 31,
   "metadata": {},
   "outputs": [
    {
     "name": "stdout",
     "output_type": "stream",
     "text": [
      "The final accuracy on Test Dataset is: 0.9102\n"
     ]
    }
   ],
   "source": [
    "clf = SGDClassifier(loss = 'log',\n",
    "                    penalty = 'l2',\n",
    "                    alpha = 0.0001,\n",
    "                    class_weight = 'balanced')\n",
    "\n",
    "clf.fit(x_train_vect, y_train)\n",
    "\n",
    "test_acc = accuracy_score(y_test, clf.predict(x_test_vect))\n",
    "print(\"The final accuracy on Test Dataset is: {}\".format(round(test_acc, 4)))"
   ]
  },
  {
   "cell_type": "markdown",
   "metadata": {},
   "source": [
    "### Linear SVM"
   ]
  },
  {
   "cell_type": "code",
   "execution_count": 32,
   "metadata": {},
   "outputs": [
    {
     "name": "stdout",
     "output_type": "stream",
     "text": [
      "The mean CV accuracy with alpha = 1e-05 is = 0.9036\n",
      "The mean CV accuracy with alpha = 0.0001 is = 0.892\n",
      "The mean CV accuracy with alpha = 0.001 is = 0.7673\n",
      "The mean CV accuracy with alpha = 0.01 is = 0.5284\n",
      "The mean CV accuracy with alpha = 0.1 is = 0.1294\n",
      "The mean CV accuracy with alpha = 1 is = 0.0901\n",
      "The mean CV accuracy with alpha = 10 is = 0.0795\n",
      "The mean CV accuracy with alpha = 100 is = 0.0709\n",
      "The mean CV accuracy with alpha = 1000 is = 0.0951\n"
     ]
    }
   ],
   "source": [
    "#defining the range of values for the hyperparameter alpha\n",
    "param={'alpha': [0.00001, 0.0001, 0.001,0.01, 0.1, 1, 10, 100, 1000]}\n",
    "\n",
    "cv_accuracy = []\n",
    "train_accuracy = []\n",
    "for ele in param['alpha']:\n",
    "    \n",
    "    clf = SGDClassifier(loss = 'hinge',\n",
    "                        penalty = 'l1',\n",
    "                        alpha = ele,\n",
    "                        class_weight = 'balanced', n_jobs = -1)\n",
    "        \n",
    "    scores=cross_val_score(clf,\n",
    "                           x_train_vect,\n",
    "                           y_train,\n",
    "                           scoring = 'accuracy',\n",
    "                           cv = 4,\n",
    "                           n_jobs = -1)\n",
    "    \n",
    "    #appending the train and cv scores to the list\n",
    "    print(\"The mean CV accuracy with alpha = {} is = {}\".format(ele, round(np.mean(scores), 4)))\n",
    "    cv_accuracy.append(np.mean(scores))\n",
    "    \n",
    "    #fitting the model on whole training dataset, to get the train accuracy too\n",
    "    clf.fit(x_train_vect, y_train)\n",
    "    train_accuracy.append(accuracy_score(y_train, clf.predict(x_train_vect)))"
   ]
  },
  {
   "cell_type": "code",
   "execution_count": 33,
   "metadata": {},
   "outputs": [
    {
     "data": {
      "image/png": "[encoded data removed]",
      "text/plain": [
       "<Figure size 648x432 with 1 Axes>"
      ]
     },
     "metadata": {
      "needs_background": "light"
     },
     "output_type": "display_data"
    }
   ],
   "source": [
    "plot_accuracy_versus_hyperparam(param['alpha'], train_accuracy, cv_accuracy, 'alpha', True)"
   ]
  },
  {
   "cell_type": "markdown",
   "metadata": {},
   "source": [
    "Again, we notice that alpha = 0.00001 gives the best CV Score. So we will train our final model using that hyperparameter, and check the performance on test dataset."
   ]
  },
  {
   "cell_type": "code",
   "execution_count": 34,
   "metadata": {},
   "outputs": [
    {
     "name": "stdout",
     "output_type": "stream",
     "text": [
      "The final accuracy on Test Dataset is: 0.9153\n"
     ]
    }
   ],
   "source": [
    "clf = SGDClassifier(loss = 'hinge',\n",
    "                    penalty = 'l2',\n",
    "                    alpha = 1e-5,\n",
    "                    class_weight = 'balanced')\n",
    "\n",
    "clf.fit(x_train_vect,y_train)\n",
    "\n",
    "test_acc = accuracy_score(y_test, clf.predict(x_test_vect))\n",
    "print(\"The final accuracy on Test Dataset is: {}\".format(round(test_acc, 4)))"
   ]
  },
  {
   "cell_type": "markdown",
   "metadata": {},
   "source": [
    "### Multinomial Naive Bayes"
   ]
  },
  {
   "cell_type": "code",
   "execution_count": 35,
   "metadata": {},
   "outputs": [
    {
     "name": "stdout",
     "output_type": "stream",
     "text": [
      "The mean CV accuracy with alpha = 0.001 is = 0.8681\n",
      "The mean CV accuracy with alpha = 0.01 is = 0.8661\n",
      "The mean CV accuracy with alpha = 0.1 is = 0.8624\n",
      "The mean CV accuracy with alpha = 1 is = 0.8532\n",
      "The mean CV accuracy with alpha = 100 is = 0.7632\n",
      "The mean CV accuracy with alpha = 1000 is = 0.6441\n"
     ]
    }
   ],
   "source": [
    "#defining the range of values for the hyperparameter alpha\n",
    "param = {'alpha':[1e-3, 1e-2, 0.1, 1, 100, 1000]}\n",
    "\n",
    "cv_accuracy = []\n",
    "train_accuracy = []\n",
    "for ele in param['alpha']:\n",
    "    \n",
    "    clf = MultinomialNB(alpha = ele)\n",
    "        \n",
    "    scores = cross_val_score(clf,\n",
    "                             x_train_vect,\n",
    "                             y_train,\n",
    "                             scoring = 'accuracy',\n",
    "                             cv = 4,\n",
    "                             n_jobs = -1)\n",
    "    \n",
    "    print(\"The mean CV accuracy with alpha = {} is = {}\".format(ele, round(np.mean(scores), 4)))\n",
    "    cv_accuracy.append(np.mean(scores))\n",
    "\n",
    "    #fitting the model on whole training dataset, to get the train accuracy too\n",
    "    clf.fit(x_train_vect,y_train)\n",
    "    train_accuracy.append(accuracy_score(y_train,clf.predict(x_train_vect)))"
   ]
  },
  {
   "cell_type": "code",
   "execution_count": 36,
   "metadata": {},
   "outputs": [
    {
     "data": {
      "image/png": "[encoded data removed]",
      "text/plain": [
       "<Figure size 648x432 with 1 Axes>"
      ]
     },
     "metadata": {
      "needs_background": "light"
     },
     "output_type": "display_data"
    }
   ],
   "source": [
    "plot_accuracy_versus_hyperparam(param['alpha'], train_accuracy, cv_accuracy, 'alpha', True)"
   ]
  },
  {
   "cell_type": "markdown",
   "metadata": {},
   "source": [
    "From the above plot, we see that alpha = 0.001 is the best suited hyperparameter for the given model."
   ]
  },
  {
   "cell_type": "code",
   "execution_count": 37,
   "metadata": {},
   "outputs": [
    {
     "name": "stdout",
     "output_type": "stream",
     "text": [
      "The final accuracy on Test Dataset is: 0.87\n"
     ]
    }
   ],
   "source": [
    "clf = MultinomialNB(alpha = 1e-3)\n",
    "clf.fit(x_train_vect, y_train)\n",
    "\n",
    "test_acc = accuracy_score(y_test, clf.predict(x_test_vect))\n",
    "print(\"The final accuracy on Test Dataset is: {}\".format(round(test_acc, 4)))"
   ]
  },
  {
   "cell_type": "markdown",
   "metadata": {},
   "source": [
    "## Result Summarization"
   ]
  },
  {
   "cell_type": "code",
   "execution_count": 38,
   "metadata": {},
   "outputs": [
    {
     "name": "stdout",
     "output_type": "stream",
     "text": [
      "+--------+---------------------+---------------+\n",
      "| S. No. |        Model        | Test Accuracy |\n",
      "+--------+---------------------+---------------+\n",
      "|   1    | Logistic Regression |     0.9102    |\n",
      "|   2    |      Linear SVM     |     0.9153    |\n",
      "|   3    |    MultinomialNB    |      0.87     |\n",
      "+--------+---------------------+---------------+\n"
     ]
    }
   ],
   "source": [
    "x = PrettyTable()\n",
    "x.field_names = ['S. No.', 'Model', 'Test Accuracy']\n",
    "x.add_row([1, 'Logistic Regression', 0.9102])\n",
    "x.add_row([2, 'Linear SVM', 0.9153])\n",
    "x.add_row([3, 'MultinomialNB', 0.87])\n",
    "\n",
    "print(x)"
   ]
  },
  {
   "cell_type": "markdown",
   "metadata": {},
   "source": [
    "### Final Model"
   ]
  },
  {
   "cell_type": "markdown",
   "metadata": {},
   "source": [
    "Looking at all the models, we saw a highest test accuracy with the Linear SVM model with the value of alpha = 0.9153.\n",
    "\n",
    "So, we will go on to train it for one last time on all our dataset, and make predictions on the unlabelled test dataset."
   ]
  },
  {
   "cell_type": "code",
   "execution_count": 9,
   "metadata": {},
   "outputs": [],
   "source": [
    "clf = SGDClassifier(loss = 'hinge',\n",
    "                    penalty = 'l2',\n",
    "                    alpha = 1e-5,\n",
    "                    class_weight = 'balanced')\n",
    "\n",
    "clf.fit(x_train_vect,y_train)\n",
    "\n",
    "test_preds = clf.predict(x_test_final)"
   ]
  },
  {
   "cell_type": "code",
   "execution_count": 10,
   "metadata": {},
   "outputs": [],
   "source": [
    "#creating a df for the predictions on test set\n",
    "test_preds_df = pd.DataFrame({'label' : test_preds})\n",
    "test_preds_df.to_csv('test_preds.csv', index = False)"
   ]
  }
 ],
 "metadata": {
  "kernelspec": {
   "display_name": "Python 3",
   "language": "python",
   "name": "python3"
  },
  "language_info": {
   "codemirror_mode": {
    "name": "ipython",
    "version": 3
   },
   "file_extension": ".py",
   "mimetype": "text/x-python",
   "name": "python",
   "nbconvert_exporter": "python",
   "pygments_lexer": "ipython3",
   "version": "3.8.5"
  }
 },
 "nbformat": 4,
 "nbformat_minor": 4
}
